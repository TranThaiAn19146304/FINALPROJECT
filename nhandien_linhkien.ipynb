{
  "nbformat": 4,
  "nbformat_minor": 0,
  "metadata": {
    "colab": {
      "name": "nhandien_linhkien.ipynb",
      "provenance": [],
      "collapsed_sections": [],
      "mount_file_id": "1x79No7csv5ODAyDzpuX6JMhetdIrXnez",
      "authorship_tag": "ABX9TyNQrRov8JMwPHt5vVOwI1qZ",
      "include_colab_link": true
    },
    "kernelspec": {
      "name": "python3",
      "display_name": "Python 3"
    },
    "language_info": {
      "name": "python"
    },
    "accelerator": "GPU",
    "gpuClass": "standard"
  },
  "cells": [
    {
      "cell_type": "markdown",
      "metadata": {
        "id": "view-in-github",
        "colab_type": "text"
      },
      "source": [
        "<a href=\"https://colab.research.google.com/github/TranThaiAn19146304/FINALPROJECT/blob/main/nhandien_linhkien.ipynb\" target=\"_parent\"><img src=\"https://colab.research.google.com/assets/colab-badge.svg\" alt=\"Open In Colab\"/></a>"
      ]
    },
    {
      "cell_type": "markdown",
      "source": [
        "**B1: THEM THU VIEN CAN THIET**"
      ],
      "metadata": {
        "id": "x9A137IsO6aC"
      }
    },
    {
      "cell_type": "code",
      "execution_count": null,
      "metadata": {
        "id": "id3VepauIw24"
      },
      "outputs": [],
      "source": [
        "#thêm một số thư viện cần thiết\n",
        "from keras.models import Sequential\n",
        "from keras.layers import Dense, Activation, Dropout, Conv2D, MaxPooling2D, Flatten\n",
        "from tensorflow.keras.optimizers import Adam\n",
        "from sklearn.preprocessing import StandardScaler\n",
        "from keras.utils import np_utils\n",
        "from sklearn.utils import shuffle\n",
        "import cv2\n",
        "import matplotlib.pyplot as plt\n",
        "import numpy as np\n",
        "import pickle\n",
        "import tensorflow as tf\n",
        "import math as m"
      ]
    },
    {
      "cell_type": "markdown",
      "source": [
        "**B2: VIET HAM CON DE XEM DO THI**"
      ],
      "metadata": {
        "id": "i7w1_7liO_9i"
      }
    },
    {
      "cell_type": "code",
      "source": [
        "#thêm hàm con để vẽ đồ thị\n",
        "def plot_history(history_fine):\n",
        "  f1 = history_fine.history['acc']\n",
        "  val_f1 = history_fine.history['val_acc']\n",
        "\n",
        "  loss = history_fine.history['loss']\n",
        "  val_loss = history_fine.history['val_loss']\n",
        "\n",
        "  plt.figure(figsize=(8, 8))\n",
        "  plt.subplot(2, 1, 1)\n",
        "  plt.plot(f1, label='Acc')\n",
        "  plt.plot(val_f1, label='Validation Acc')\n",
        "  plt.legend(loc='lower right')\n",
        "  plt.title('Accuracy')\n",
        "\n",
        "  plt.subplot(2, 1, 2)\n",
        "  plt.plot(loss, label='Loss')\n",
        "  plt.plot(val_loss, label='Validation Loss')\n",
        "  plt.legend(loc='upper right')\n",
        "  plt.title('Loss')\n",
        "  plt.xlabel('epoch')\n",
        "\n",
        "  plt.show()\n",
        "\n",
        "def plot_reg_history(history_fine):\n",
        "  loss = history_fine.history['loss']\n",
        "  val_loss = history_fine.history['val_loss']\n",
        "  plt.subplot(2, 1, 2)\n",
        "  plt.plot(loss, label='Loss')\n",
        "  plt.plot(val_loss, label='Validation Loss')\n",
        "  plt.legend(loc='upper right')\n",
        "  plt.title('Loss')\n",
        "  plt.xlabel('epoch')\n",
        "  plt.show()"
      ],
      "metadata": {
        "id": "lQ9RvGWgJdAB"
      },
      "execution_count": null,
      "outputs": []
    },
    {
      "cell_type": "markdown",
      "source": [
        "**B3: LAY DATA**"
      ],
      "metadata": {
        "id": "3i9kpbPgPTHh"
      }
    },
    {
      "cell_type": "code",
      "source": [
        "sl = 23\n",
        "\n",
        "# Load Data \n",
        "with open('/content/drive/MyDrive/project_AI/data.pickle', 'rb') as f:\n",
        "    (x_train, y_train) = pickle.load(f)\n",
        "\n",
        "\n",
        "# Preprocessing Data\n",
        "x_train = x_train.astype('float32')\n",
        "x_train /= 255\n",
        "\n",
        "# Encoding Y\n",
        "y_train = np_utils.to_categorical(y_train, sl)\n",
        "# Shuffe Data\n",
        "x_train, y_train = shuffle(x_train, y_train)\n",
        "x_train.shape\n"
      ],
      "metadata": {
        "id": "oZm4UjNdJ2uh",
        "colab": {
          "base_uri": "https://localhost:8080/"
        },
        "outputId": "d90470b5-4065-4166-f59f-01b3bee14be6"
      },
      "execution_count": null,
      "outputs": [
        {
          "output_type": "execute_result",
          "data": {
            "text/plain": [
              "(1150, 150, 150, 3)"
            ]
          },
          "metadata": {},
          "execution_count": 3
        }
      ]
    },
    {
      "cell_type": "markdown",
      "source": [
        "**B4: TAO MODEL** "
      ],
      "metadata": {
        "id": "CpuIrO7dPasZ"
      }
    },
    {
      "cell_type": "code",
      "source": [
        "model = Sequential()\n",
        "\n",
        "model.add(Conv2D(32, (3,3), activation='relu',kernel_initializer='he_uniform', padding ='same', input_shape = (150,150,3)))\n",
        "model.add(Conv2D(32, (3,3), activation='relu',kernel_initializer='he_uniform', padding ='same'))\n",
        "model.add(MaxPooling2D(2,2))\n",
        "\n",
        "model.add(Conv2D(64, (3,3), activation='relu',kernel_initializer='he_uniform', padding ='same'))\n",
        "model.add(Conv2D(64, (3,3), activation='relu',kernel_initializer='he_uniform', padding ='same'))\n",
        "model.add(MaxPooling2D(2,2))\n",
        "\n",
        "model.add(Conv2D(128, (3,3), activation='relu',kernel_initializer='he_uniform', padding ='same'))\n",
        "model.add(Conv2D(128, (3,3), activation='relu',kernel_initializer='he_uniform', padding ='same'))\n",
        "model.add(MaxPooling2D(2,2))\n",
        "\n",
        "model.add(Conv2D(128, (3,3), activation='relu',kernel_initializer='he_uniform', padding ='same'))\n",
        "model.add(Conv2D(128, (3,3), activation='relu',kernel_initializer='he_uniform', padding ='same'))\n",
        "model.add(MaxPooling2D(2,2))\n",
        "\n",
        "model.add(Conv2D(128, (3,3), activation='relu',kernel_initializer='he_uniform', padding ='same'))\n",
        "model.add(Conv2D(128, (3,3), activation='relu',kernel_initializer='he_uniform', padding ='same'))\n",
        "model.add(MaxPooling2D(2,2))\n",
        "\n",
        "model.add(Conv2D(128, (3,3), activation='relu',kernel_initializer='he_uniform', padding ='same'))\n",
        "model.add(Conv2D(128, (3,3), activation='relu',kernel_initializer='he_uniform', padding ='same'))\n",
        "model.add(MaxPooling2D(2,2))\n",
        "\n",
        "model.add(Conv2D(128, (3,3), activation='relu',kernel_initializer='he_uniform', padding ='same'))\n",
        "model.add(Conv2D(128, (3,3), activation='relu',kernel_initializer='he_uniform', padding ='same'))\n",
        "model.add(MaxPooling2D(2,2))\n",
        "\n",
        "model.add(Flatten())\n",
        "model.add(Dense(32, activation='relu', kernel_initializer='he_uniform'))\n",
        "model.add(Dense(64, activation='relu', kernel_initializer='he_uniform'))\n",
        "model.add(Dense(128, activation='relu', kernel_initializer='he_uniform'))\n",
        "model.add(Dense(128, activation='relu', kernel_initializer='he_uniform'))\n",
        "model.add(Dense(sl, activation='softmax'))\n",
        "model.summary()"
      ],
      "metadata": {
        "id": "BzssXn8kKEA2",
        "colab": {
          "base_uri": "https://localhost:8080/"
        },
        "outputId": "53f0db5f-80dd-46ab-e7c6-b032b9f36ade"
      },
      "execution_count": null,
      "outputs": [
        {
          "output_type": "stream",
          "name": "stdout",
          "text": [
            "Model: \"sequential\"\n",
            "_________________________________________________________________\n",
            " Layer (type)                Output Shape              Param #   \n",
            "=================================================================\n",
            " conv2d (Conv2D)             (None, 150, 150, 32)      896       \n",
            "                                                                 \n",
            " conv2d_1 (Conv2D)           (None, 150, 150, 32)      9248      \n",
            "                                                                 \n",
            " max_pooling2d (MaxPooling2D  (None, 75, 75, 32)       0         \n",
            " )                                                               \n",
            "                                                                 \n",
            " conv2d_2 (Conv2D)           (None, 75, 75, 64)        18496     \n",
            "                                                                 \n",
            " conv2d_3 (Conv2D)           (None, 75, 75, 64)        36928     \n",
            "                                                                 \n",
            " max_pooling2d_1 (MaxPooling  (None, 37, 37, 64)       0         \n",
            " 2D)                                                             \n",
            "                                                                 \n",
            " conv2d_4 (Conv2D)           (None, 37, 37, 128)       73856     \n",
            "                                                                 \n",
            " conv2d_5 (Conv2D)           (None, 37, 37, 128)       147584    \n",
            "                                                                 \n",
            " max_pooling2d_2 (MaxPooling  (None, 18, 18, 128)      0         \n",
            " 2D)                                                             \n",
            "                                                                 \n",
            " conv2d_6 (Conv2D)           (None, 18, 18, 128)       147584    \n",
            "                                                                 \n",
            " conv2d_7 (Conv2D)           (None, 18, 18, 128)       147584    \n",
            "                                                                 \n",
            " max_pooling2d_3 (MaxPooling  (None, 9, 9, 128)        0         \n",
            " 2D)                                                             \n",
            "                                                                 \n",
            " conv2d_8 (Conv2D)           (None, 9, 9, 128)         147584    \n",
            "                                                                 \n",
            " conv2d_9 (Conv2D)           (None, 9, 9, 128)         147584    \n",
            "                                                                 \n",
            " max_pooling2d_4 (MaxPooling  (None, 4, 4, 128)        0         \n",
            " 2D)                                                             \n",
            "                                                                 \n",
            " conv2d_10 (Conv2D)          (None, 4, 4, 128)         147584    \n",
            "                                                                 \n",
            " conv2d_11 (Conv2D)          (None, 4, 4, 128)         147584    \n",
            "                                                                 \n",
            " max_pooling2d_5 (MaxPooling  (None, 2, 2, 128)        0         \n",
            " 2D)                                                             \n",
            "                                                                 \n",
            " conv2d_12 (Conv2D)          (None, 2, 2, 128)         147584    \n",
            "                                                                 \n",
            " conv2d_13 (Conv2D)          (None, 2, 2, 128)         147584    \n",
            "                                                                 \n",
            " max_pooling2d_6 (MaxPooling  (None, 1, 1, 128)        0         \n",
            " 2D)                                                             \n",
            "                                                                 \n",
            " flatten (Flatten)           (None, 128)               0         \n",
            "                                                                 \n",
            " dense (Dense)               (None, 32)                4128      \n",
            "                                                                 \n",
            " dense_1 (Dense)             (None, 64)                2112      \n",
            "                                                                 \n",
            " dense_2 (Dense)             (None, 128)               8320      \n",
            "                                                                 \n",
            " dense_3 (Dense)             (None, 128)               16512     \n",
            "                                                                 \n",
            " dense_4 (Dense)             (None, 23)                2967      \n",
            "                                                                 \n",
            "=================================================================\n",
            "Total params: 1,501,719\n",
            "Trainable params: 1,501,719\n",
            "Non-trainable params: 0\n",
            "_________________________________________________________________\n"
          ]
        }
      ]
    },
    {
      "cell_type": "markdown",
      "source": [
        "**B5: TRAINING MODEL**"
      ],
      "metadata": {
        "id": "v0Emv8eSPe59"
      }
    },
    {
      "cell_type": "code",
      "source": [
        "opt = Adam(lr = 0.001)\n",
        "model.compile(optimizer = opt, loss = 'categorical_crossentropy', metrics = ['acc'])\n",
        "his = model.fit(x_train, y_train, epochs = 100, batch_size = 64, validation_split = 0.3)"
      ],
      "metadata": {
        "id": "2COOBmZ1KKLA",
        "colab": {
          "base_uri": "https://localhost:8080/"
        },
        "outputId": "f90415a6-7bcd-47ca-ecc3-abcd5f77808b"
      },
      "execution_count": null,
      "outputs": [
        {
          "output_type": "stream",
          "name": "stderr",
          "text": [
            "/usr/local/lib/python3.7/dist-packages/keras/optimizer_v2/adam.py:105: UserWarning: The `lr` argument is deprecated, use `learning_rate` instead.\n",
            "  super(Adam, self).__init__(name, **kwargs)\n"
          ]
        },
        {
          "output_type": "stream",
          "name": "stdout",
          "text": [
            "Epoch 1/100\n",
            "13/13 [==============================] - 18s 352ms/step - loss: 3.1998 - acc: 0.0385 - val_loss: 3.1381 - val_acc: 0.0290\n",
            "Epoch 2/100\n",
            "13/13 [==============================] - 2s 150ms/step - loss: 3.1330 - acc: 0.0509 - val_loss: 3.1207 - val_acc: 0.0290\n",
            "Epoch 3/100\n",
            "13/13 [==============================] - 2s 146ms/step - loss: 3.0717 - acc: 0.0547 - val_loss: 2.9785 - val_acc: 0.0725\n",
            "Epoch 4/100\n",
            "13/13 [==============================] - 2s 160ms/step - loss: 2.8710 - acc: 0.0832 - val_loss: 2.8095 - val_acc: 0.0870\n",
            "Epoch 5/100\n",
            "13/13 [==============================] - 2s 156ms/step - loss: 2.7126 - acc: 0.1366 - val_loss: 2.6891 - val_acc: 0.1420\n",
            "Epoch 6/100\n",
            "13/13 [==============================] - 2s 147ms/step - loss: 2.6068 - acc: 0.1602 - val_loss: 2.4880 - val_acc: 0.1797\n",
            "Epoch 7/100\n",
            "13/13 [==============================] - 2s 147ms/step - loss: 2.3665 - acc: 0.2186 - val_loss: 2.5546 - val_acc: 0.1884\n",
            "Epoch 8/100\n",
            "13/13 [==============================] - 2s 147ms/step - loss: 2.3933 - acc: 0.2186 - val_loss: 2.2181 - val_acc: 0.1623\n",
            "Epoch 9/100\n",
            "13/13 [==============================] - 2s 148ms/step - loss: 2.5512 - acc: 0.1901 - val_loss: 2.3580 - val_acc: 0.2290\n",
            "Epoch 10/100\n",
            "13/13 [==============================] - 2s 149ms/step - loss: 2.1968 - acc: 0.2559 - val_loss: 2.0091 - val_acc: 0.2609\n",
            "Epoch 11/100\n",
            "13/13 [==============================] - 2s 149ms/step - loss: 1.6809 - acc: 0.3652 - val_loss: 1.6789 - val_acc: 0.3014\n",
            "Epoch 12/100\n",
            "13/13 [==============================] - 2s 148ms/step - loss: 1.5059 - acc: 0.4075 - val_loss: 1.4686 - val_acc: 0.4203\n",
            "Epoch 13/100\n",
            "13/13 [==============================] - 2s 149ms/step - loss: 1.4507 - acc: 0.4286 - val_loss: 1.6352 - val_acc: 0.3333\n",
            "Epoch 14/100\n",
            "13/13 [==============================] - 2s 148ms/step - loss: 1.2978 - acc: 0.4634 - val_loss: 1.1893 - val_acc: 0.5217\n",
            "Epoch 15/100\n",
            "13/13 [==============================] - 2s 152ms/step - loss: 1.2559 - acc: 0.4932 - val_loss: 1.5113 - val_acc: 0.3507\n",
            "Epoch 16/100\n",
            "13/13 [==============================] - 2s 148ms/step - loss: 1.2382 - acc: 0.5043 - val_loss: 1.1898 - val_acc: 0.4957\n",
            "Epoch 17/100\n",
            "13/13 [==============================] - 2s 150ms/step - loss: 0.9658 - acc: 0.6112 - val_loss: 1.0846 - val_acc: 0.5797\n",
            "Epoch 18/100\n",
            "13/13 [==============================] - 2s 149ms/step - loss: 0.9115 - acc: 0.6037 - val_loss: 0.9402 - val_acc: 0.6203\n",
            "Epoch 19/100\n",
            "13/13 [==============================] - 2s 169ms/step - loss: 0.7382 - acc: 0.6870 - val_loss: 1.0261 - val_acc: 0.5623\n",
            "Epoch 20/100\n",
            "13/13 [==============================] - 2s 150ms/step - loss: 0.6169 - acc: 0.7503 - val_loss: 0.8403 - val_acc: 0.7362\n",
            "Epoch 21/100\n",
            "13/13 [==============================] - 2s 150ms/step - loss: 0.6922 - acc: 0.7267 - val_loss: 0.7292 - val_acc: 0.7797\n",
            "Epoch 22/100\n",
            "13/13 [==============================] - 2s 149ms/step - loss: 0.5896 - acc: 0.7789 - val_loss: 0.9024 - val_acc: 0.6812\n",
            "Epoch 23/100\n",
            "13/13 [==============================] - 2s 150ms/step - loss: 0.4359 - acc: 0.8447 - val_loss: 0.7933 - val_acc: 0.7594\n",
            "Epoch 24/100\n",
            "13/13 [==============================] - 2s 151ms/step - loss: 0.3767 - acc: 0.8559 - val_loss: 0.9981 - val_acc: 0.7101\n",
            "Epoch 25/100\n",
            "13/13 [==============================] - 2s 151ms/step - loss: 0.4550 - acc: 0.8398 - val_loss: 0.6688 - val_acc: 0.7942\n",
            "Epoch 26/100\n",
            "13/13 [==============================] - 2s 150ms/step - loss: 0.3444 - acc: 0.8807 - val_loss: 0.5390 - val_acc: 0.8174\n",
            "Epoch 27/100\n",
            "13/13 [==============================] - 2s 154ms/step - loss: 0.2907 - acc: 0.9118 - val_loss: 0.8121 - val_acc: 0.7797\n",
            "Epoch 28/100\n",
            "13/13 [==============================] - 2s 151ms/step - loss: 0.4100 - acc: 0.8472 - val_loss: 0.6062 - val_acc: 0.7797\n",
            "Epoch 29/100\n",
            "13/13 [==============================] - 2s 151ms/step - loss: 0.3224 - acc: 0.8894 - val_loss: 1.0521 - val_acc: 0.7594\n",
            "Epoch 30/100\n",
            "13/13 [==============================] - 2s 157ms/step - loss: 0.2690 - acc: 0.9043 - val_loss: 0.4357 - val_acc: 0.8696\n",
            "Epoch 31/100\n",
            "13/13 [==============================] - 2s 153ms/step - loss: 0.3957 - acc: 0.8894 - val_loss: 1.5913 - val_acc: 0.6261\n",
            "Epoch 32/100\n",
            "13/13 [==============================] - 2s 151ms/step - loss: 0.9317 - acc: 0.6919 - val_loss: 0.7235 - val_acc: 0.7652\n",
            "Epoch 33/100\n",
            "13/13 [==============================] - 2s 151ms/step - loss: 0.5739 - acc: 0.8000 - val_loss: 0.5512 - val_acc: 0.8174\n",
            "Epoch 34/100\n",
            "13/13 [==============================] - 2s 152ms/step - loss: 0.2454 - acc: 0.9317 - val_loss: 0.5544 - val_acc: 0.7971\n",
            "Epoch 35/100\n",
            "13/13 [==============================] - 2s 153ms/step - loss: 0.1380 - acc: 0.9478 - val_loss: 0.3412 - val_acc: 0.9275\n",
            "Epoch 36/100\n",
            "13/13 [==============================] - 2s 152ms/step - loss: 0.4819 - acc: 0.8596 - val_loss: 1.2991 - val_acc: 0.6000\n",
            "Epoch 37/100\n",
            "13/13 [==============================] - 2s 153ms/step - loss: 0.5208 - acc: 0.8335 - val_loss: 0.4892 - val_acc: 0.8174\n",
            "Epoch 38/100\n",
            "13/13 [==============================] - 2s 152ms/step - loss: 0.2420 - acc: 0.9217 - val_loss: 0.5107 - val_acc: 0.8174\n",
            "Epoch 39/100\n",
            "13/13 [==============================] - 2s 153ms/step - loss: 0.2095 - acc: 0.9255 - val_loss: 0.3479 - val_acc: 0.8899\n",
            "Epoch 40/100\n",
            "13/13 [==============================] - 2s 152ms/step - loss: 0.1288 - acc: 0.9689 - val_loss: 0.2892 - val_acc: 0.9188\n",
            "Epoch 41/100\n",
            "13/13 [==============================] - 2s 152ms/step - loss: 0.0726 - acc: 0.9727 - val_loss: 0.6054 - val_acc: 0.8232\n",
            "Epoch 42/100\n",
            "13/13 [==============================] - 2s 153ms/step - loss: 0.0919 - acc: 0.9689 - val_loss: 0.4013 - val_acc: 0.8928\n",
            "Epoch 43/100\n",
            "13/13 [==============================] - 2s 151ms/step - loss: 0.0468 - acc: 0.9826 - val_loss: 0.2928 - val_acc: 0.9275\n",
            "Epoch 44/100\n",
            "13/13 [==============================] - 2s 152ms/step - loss: 0.0232 - acc: 0.9950 - val_loss: 0.3924 - val_acc: 0.8986\n",
            "Epoch 45/100\n",
            "13/13 [==============================] - 2s 152ms/step - loss: 0.0259 - acc: 0.9938 - val_loss: 0.4148 - val_acc: 0.8957\n",
            "Epoch 46/100\n",
            "13/13 [==============================] - 2s 152ms/step - loss: 0.1337 - acc: 0.9640 - val_loss: 1.6477 - val_acc: 0.7420\n",
            "Epoch 47/100\n",
            "13/13 [==============================] - 2s 152ms/step - loss: 0.8004 - acc: 0.7540 - val_loss: 0.7893 - val_acc: 0.7623\n",
            "Epoch 48/100\n",
            "13/13 [==============================] - 2s 154ms/step - loss: 0.4230 - acc: 0.8621 - val_loss: 0.4728 - val_acc: 0.8957\n",
            "Epoch 49/100\n",
            "13/13 [==============================] - 2s 151ms/step - loss: 0.1506 - acc: 0.9689 - val_loss: 0.3667 - val_acc: 0.8899\n",
            "Epoch 50/100\n",
            "13/13 [==============================] - 2s 151ms/step - loss: 0.1191 - acc: 0.9677 - val_loss: 0.7492 - val_acc: 0.8261\n",
            "Epoch 51/100\n",
            "13/13 [==============================] - 2s 152ms/step - loss: 0.1597 - acc: 0.9578 - val_loss: 0.4288 - val_acc: 0.8696\n",
            "Epoch 52/100\n",
            "13/13 [==============================] - 2s 150ms/step - loss: 0.0765 - acc: 0.9814 - val_loss: 0.3320 - val_acc: 0.9043\n",
            "Epoch 53/100\n",
            "13/13 [==============================] - 2s 152ms/step - loss: 0.0425 - acc: 0.9839 - val_loss: 0.2911 - val_acc: 0.9333\n",
            "Epoch 54/100\n",
            "13/13 [==============================] - 2s 151ms/step - loss: 0.0223 - acc: 0.9938 - val_loss: 0.2971 - val_acc: 0.9014\n",
            "Epoch 55/100\n",
            "13/13 [==============================] - 2s 150ms/step - loss: 0.0179 - acc: 0.9950 - val_loss: 0.3528 - val_acc: 0.9072\n",
            "Epoch 56/100\n",
            "13/13 [==============================] - 2s 151ms/step - loss: 0.0055 - acc: 1.0000 - val_loss: 0.3057 - val_acc: 0.9246\n",
            "Epoch 57/100\n",
            "13/13 [==============================] - 2s 151ms/step - loss: 0.0099 - acc: 0.9975 - val_loss: 0.2507 - val_acc: 0.9362\n",
            "Epoch 58/100\n",
            "13/13 [==============================] - 2s 149ms/step - loss: 0.0080 - acc: 0.9988 - val_loss: 0.3707 - val_acc: 0.9130\n",
            "Epoch 59/100\n",
            "13/13 [==============================] - 2s 150ms/step - loss: 0.1262 - acc: 0.9814 - val_loss: 1.3867 - val_acc: 0.8000\n",
            "Epoch 60/100\n",
            "13/13 [==============================] - 2s 149ms/step - loss: 1.2876 - acc: 0.7230 - val_loss: 1.1524 - val_acc: 0.6406\n",
            "Epoch 61/100\n",
            "13/13 [==============================] - 2s 149ms/step - loss: 0.9130 - acc: 0.7031 - val_loss: 0.9264 - val_acc: 0.6725\n",
            "Epoch 62/100\n",
            "13/13 [==============================] - 2s 151ms/step - loss: 0.5052 - acc: 0.8596 - val_loss: 0.5631 - val_acc: 0.8435\n",
            "Epoch 63/100\n",
            "13/13 [==============================] - 2s 150ms/step - loss: 0.1999 - acc: 0.9391 - val_loss: 0.3842 - val_acc: 0.8957\n",
            "Epoch 64/100\n",
            "13/13 [==============================] - 2s 150ms/step - loss: 0.0779 - acc: 0.9801 - val_loss: 0.3566 - val_acc: 0.9101\n",
            "Epoch 65/100\n",
            "13/13 [==============================] - 2s 149ms/step - loss: 0.1347 - acc: 0.9640 - val_loss: 0.4435 - val_acc: 0.8667\n",
            "Epoch 66/100\n",
            "13/13 [==============================] - 2s 150ms/step - loss: 0.1815 - acc: 0.9441 - val_loss: 0.4910 - val_acc: 0.8406\n",
            "Epoch 67/100\n",
            "13/13 [==============================] - 2s 155ms/step - loss: 0.1454 - acc: 0.9565 - val_loss: 0.3108 - val_acc: 0.8928\n",
            "Epoch 68/100\n",
            "13/13 [==============================] - 2s 150ms/step - loss: 0.0623 - acc: 0.9789 - val_loss: 0.3902 - val_acc: 0.8957\n",
            "Epoch 69/100\n",
            "13/13 [==============================] - 2s 150ms/step - loss: 0.0305 - acc: 0.9938 - val_loss: 0.4381 - val_acc: 0.8754\n",
            "Epoch 70/100\n",
            "13/13 [==============================] - 2s 153ms/step - loss: 0.0575 - acc: 0.9851 - val_loss: 0.2839 - val_acc: 0.9275\n",
            "Epoch 71/100\n",
            "13/13 [==============================] - 2s 154ms/step - loss: 0.0340 - acc: 0.9901 - val_loss: 0.2984 - val_acc: 0.9333\n",
            "Epoch 72/100\n",
            "13/13 [==============================] - 2s 151ms/step - loss: 0.0217 - acc: 0.9938 - val_loss: 0.2847 - val_acc: 0.9420\n",
            "Epoch 73/100\n",
            "13/13 [==============================] - 2s 151ms/step - loss: 0.0211 - acc: 0.9950 - val_loss: 0.2974 - val_acc: 0.9275\n",
            "Epoch 74/100\n",
            "13/13 [==============================] - 2s 151ms/step - loss: 0.0162 - acc: 0.9963 - val_loss: 0.3229 - val_acc: 0.9188\n",
            "Epoch 75/100\n",
            "13/13 [==============================] - 2s 154ms/step - loss: 0.0062 - acc: 0.9988 - val_loss: 0.3313 - val_acc: 0.9304\n",
            "Epoch 76/100\n",
            "13/13 [==============================] - 2s 151ms/step - loss: 0.0036 - acc: 1.0000 - val_loss: 0.2510 - val_acc: 0.9362\n",
            "Epoch 77/100\n",
            "13/13 [==============================] - 2s 153ms/step - loss: 0.0012 - acc: 1.0000 - val_loss: 0.2454 - val_acc: 0.9507\n",
            "Epoch 78/100\n",
            "13/13 [==============================] - 2s 151ms/step - loss: 6.2559e-04 - acc: 1.0000 - val_loss: 0.2610 - val_acc: 0.9507\n",
            "Epoch 79/100\n",
            "13/13 [==============================] - 2s 152ms/step - loss: 5.4849e-04 - acc: 1.0000 - val_loss: 0.2610 - val_acc: 0.9507\n",
            "Epoch 80/100\n",
            "13/13 [==============================] - 2s 153ms/step - loss: 4.4821e-04 - acc: 1.0000 - val_loss: 0.2590 - val_acc: 0.9536\n",
            "Epoch 81/100\n",
            "13/13 [==============================] - 2s 151ms/step - loss: 3.9498e-04 - acc: 1.0000 - val_loss: 0.2608 - val_acc: 0.9507\n",
            "Epoch 82/100\n",
            "13/13 [==============================] - 2s 151ms/step - loss: 3.5306e-04 - acc: 1.0000 - val_loss: 0.2627 - val_acc: 0.9507\n",
            "Epoch 83/100\n",
            "13/13 [==============================] - 2s 151ms/step - loss: 3.2115e-04 - acc: 1.0000 - val_loss: 0.2652 - val_acc: 0.9507\n",
            "Epoch 84/100\n",
            "13/13 [==============================] - 2s 151ms/step - loss: 2.9448e-04 - acc: 1.0000 - val_loss: 0.2667 - val_acc: 0.9507\n",
            "Epoch 85/100\n",
            "13/13 [==============================] - 2s 151ms/step - loss: 2.7157e-04 - acc: 1.0000 - val_loss: 0.2689 - val_acc: 0.9507\n",
            "Epoch 86/100\n",
            "13/13 [==============================] - 2s 156ms/step - loss: 2.5308e-04 - acc: 1.0000 - val_loss: 0.2705 - val_acc: 0.9507\n",
            "Epoch 87/100\n",
            "13/13 [==============================] - 2s 156ms/step - loss: 2.3581e-04 - acc: 1.0000 - val_loss: 0.2723 - val_acc: 0.9507\n",
            "Epoch 88/100\n",
            "13/13 [==============================] - 2s 151ms/step - loss: 2.2110e-04 - acc: 1.0000 - val_loss: 0.2742 - val_acc: 0.9507\n",
            "Epoch 89/100\n",
            "13/13 [==============================] - 2s 151ms/step - loss: 2.0772e-04 - acc: 1.0000 - val_loss: 0.2762 - val_acc: 0.9507\n",
            "Epoch 90/100\n",
            "13/13 [==============================] - 2s 151ms/step - loss: 1.9602e-04 - acc: 1.0000 - val_loss: 0.2786 - val_acc: 0.9507\n",
            "Epoch 91/100\n",
            "13/13 [==============================] - 2s 153ms/step - loss: 1.8619e-04 - acc: 1.0000 - val_loss: 0.2807 - val_acc: 0.9507\n",
            "Epoch 92/100\n",
            "13/13 [==============================] - 2s 153ms/step - loss: 1.7608e-04 - acc: 1.0000 - val_loss: 0.2828 - val_acc: 0.9478\n",
            "Epoch 93/100\n",
            "13/13 [==============================] - 2s 151ms/step - loss: 1.6693e-04 - acc: 1.0000 - val_loss: 0.2848 - val_acc: 0.9478\n",
            "Epoch 94/100\n",
            "13/13 [==============================] - 2s 152ms/step - loss: 1.5882e-04 - acc: 1.0000 - val_loss: 0.2861 - val_acc: 0.9478\n",
            "Epoch 95/100\n",
            "13/13 [==============================] - 2s 155ms/step - loss: 1.5174e-04 - acc: 1.0000 - val_loss: 0.2881 - val_acc: 0.9478\n",
            "Epoch 96/100\n",
            "13/13 [==============================] - 2s 154ms/step - loss: 1.4465e-04 - acc: 1.0000 - val_loss: 0.2896 - val_acc: 0.9478\n",
            "Epoch 97/100\n",
            "13/13 [==============================] - 2s 151ms/step - loss: 1.3858e-04 - acc: 1.0000 - val_loss: 0.2920 - val_acc: 0.9478\n",
            "Epoch 98/100\n",
            "13/13 [==============================] - 2s 152ms/step - loss: 1.3228e-04 - acc: 1.0000 - val_loss: 0.2932 - val_acc: 0.9478\n",
            "Epoch 99/100\n",
            "13/13 [==============================] - 2s 151ms/step - loss: 1.2700e-04 - acc: 1.0000 - val_loss: 0.2950 - val_acc: 0.9478\n",
            "Epoch 100/100\n",
            "13/13 [==============================] - 2s 150ms/step - loss: 1.2192e-04 - acc: 1.0000 - val_loss: 0.2971 - val_acc: 0.9478\n"
          ]
        }
      ]
    },
    {
      "cell_type": "markdown",
      "source": [
        "**B6: KIEM TRA MODEL**"
      ],
      "metadata": {
        "id": "s0dBlYaUPi7F"
      }
    },
    {
      "cell_type": "code",
      "source": [
        "plot_history(his)"
      ],
      "metadata": {
        "id": "jsjYNarMKL8n",
        "colab": {
          "base_uri": "https://localhost:8080/",
          "height": 513
        },
        "outputId": "1be154e5-c9ac-4aaa-82d7-bb135792a746"
      },
      "execution_count": null,
      "outputs": [
        {
          "output_type": "display_data",
          "data": {
            "text/plain": [
              "<Figure size 576x576 with 2 Axes>"
            ],
            "image/png": "[encoded data removed]"
          },
          "metadata": {
            "needs_background": "light"
          }
        }
      ]
    },
    {
      "cell_type": "markdown",
      "source": [
        "**B7: LUU MODEL**"
      ],
      "metadata": {
        "id": "ikvQ-HahPoBo"
      }
    },
    {
      "cell_type": "code",
      "source": [
        "model.save(\"/content/drive/MyDrive/project_AI/model_v2.h5\")"
      ],
      "metadata": {
        "id": "FvqUIP9OdMx9"
      },
      "execution_count": null,
      "outputs": []
    }
  ]
}